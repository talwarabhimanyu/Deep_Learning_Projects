{
 "cells": [
  {
   "cell_type": "code",
   "execution_count": 13,
   "metadata": {},
   "outputs": [
    {
     "name": "stdout",
     "output_type": "stream",
     "text": [
      "The autoreload extension is already loaded. To reload it, use:\n",
      "  %reload_ext autoreload\n"
     ]
    }
   ],
   "source": [
    "import numpy as np\n",
    "import time as time\n",
    "from orig_cnn_layers import *\n",
    "#from cnn_layers import *\n",
    "%load_ext autoreload\n",
    "%autoreload 2"
   ]
  },
  {
   "cell_type": "code",
   "execution_count": 2,
   "metadata": {},
   "outputs": [],
   "source": [
    "seed = 10151\n",
    "N, C_in, H, W = 10, 3, 20, 20\n",
    "C_out, KH, KW = 6, 2, 2\n",
    "num_trials = 10000"
   ]
  },
  {
   "cell_type": "code",
   "execution_count": null,
   "metadata": {},
   "outputs": [],
   "source": [
    "np.random.seed(seed)\n",
    "X = np.random.randint(low=1, high=100, size=(N, C_in, H, W))\n",
    "K = np.random.randint(low=1, high=100, size=(C_out, C_in, KH, KW))\n",
    "X_out = cnn_forward_im2col(X, K)\n",
    "X_orig = cnn_forward_naive(X, K)\n",
    "print((X_orig-X_out).sum())"
   ]
  },
  {
   "cell_type": "code",
   "execution_count": 15,
   "metadata": {},
   "outputs": [
    {
     "name": "stdout",
     "output_type": "stream",
     "text": [
      "Time for 10000 convolutions using Naive Convolutions: 23.22s\n"
     ]
    }
   ],
   "source": [
    "np.random.seed(seed)\n",
    "tic = time.time()\n",
    "for i in range(num_trials):\n",
    "    X = np.random.randint(low=1, high=100, size=(N, C_in, H, W))\n",
    "    K = np.random.randint(low=1, high=100, size=(C_out, C_in, KH, KW))\n",
    "    X_out = cnn_forward_naive(X, K)\n",
    "toc = time.time()\n",
    "print('Time for {} convolutions using Naive Convolutions: {:.2f}s'.format(num_trials, toc-tic))"
   ]
  },
  {
   "cell_type": "code",
   "execution_count": 16,
   "metadata": {},
   "outputs": [
    {
     "name": "stdout",
     "output_type": "stream",
     "text": [
      "Time for 10000 convolutions using im2col: 7.02s\n"
     ]
    }
   ],
   "source": [
    "np.random.seed(seed)\n",
    "tic = time.time()\n",
    "for i in range(num_trials):\n",
    "    X = np.random.randint(low=1, high=100, size=(N, C_in, H, W))\n",
    "    K = np.random.randint(low=1, high=100, size=(C_out, C_in, KH, KW))\n",
    "    X_out = cnn_forward_im2col_fast(X, K)\n",
    "toc = time.time()\n",
    "print('Time for {} convolutions using im2col: {:.2f}s'.format(num_trials, toc-tic))"
   ]
  },
  {
   "cell_type": "code",
   "execution_count": null,
   "metadata": {},
   "outputs": [],
   "source": [
    "a = np.arange(4).reshape(2,2)\n",
    "a"
   ]
  },
  {
   "cell_type": "code",
   "execution_count": null,
   "metadata": {},
   "outputs": [],
   "source": [
    "np.repeat(a, [2,3], axis=1)"
   ]
  },
  {
   "cell_type": "code",
   "execution_count": null,
   "metadata": {},
   "outputs": [],
   "source": [
    "np.tile(a, reps=[2,3])"
   ]
  },
  {
   "cell_type": "code",
   "execution_count": null,
   "metadata": {},
   "outputs": [],
   "source": [
    "s = 2\n",
    "hk, wk = 2,2\n",
    "w_out = 3\n",
    "h_out = 4\n",
    "rows = ((np.arange(h_out*w_out)//w_out)*s).astype(int)\n",
    "r = rows[:, None] + np.arange(hk)\n",
    "#r = rows[:, None]\n",
    "r1 = np.repeat(r, repeats=hk, axis=1)\n",
    "r1"
   ]
  },
  {
   "cell_type": "code",
   "execution_count": null,
   "metadata": {},
   "outputs": [],
   "source": [
    "cols = ((np.arange(12) - rows/2*3)*2).astype(int)\n",
    "c = cols[:, None] + np.arange(wk)\n",
    "#c1 =  np.repeat(c, repeats=s, axis=1)\n",
    "c1 = np.tile(c, reps=[1,wk])\n",
    "c1"
   ]
  },
  {
   "cell_type": "code",
   "execution_count": null,
   "metadata": {},
   "outputs": [],
   "source": [
    "x = np.arange(8*8).reshape(8,8)\n",
    "x"
   ]
  },
  {
   "cell_type": "code",
   "execution_count": null,
   "metadata": {},
   "outputs": [],
   "source": [
    "x[r1, c1]"
   ]
  },
  {
   "cell_type": "code",
   "execution_count": null,
   "metadata": {},
   "outputs": [],
   "source": []
  },
  {
   "cell_type": "code",
   "execution_count": null,
   "metadata": {},
   "outputs": [],
   "source": [
    "p = im2col_fast(X, K, stride=2)\n",
    "p[0,0,:,:]"
   ]
  },
  {
   "cell_type": "code",
   "execution_count": null,
   "metadata": {},
   "outputs": [],
   "source": [
    "np.r_[0:2, 4:6]"
   ]
  },
  {
   "cell_type": "code",
   "execution_count": null,
   "metadata": {},
   "outputs": [],
   "source": [
    "x.reshape(2,2,-1)"
   ]
  },
  {
   "cell_type": "code",
   "execution_count": null,
   "metadata": {},
   "outputs": [],
   "source": [
    "a = np.array([x[:,:,r:r+2,c:c+2].reshape(1,1,-1) for r,c in zip(rows, cols)])\n",
    "a.shape"
   ]
  },
  {
   "cell_type": "code",
   "execution_count": null,
   "metadata": {},
   "outputs": [],
   "source": [
    "c = np.arange(24).reshape(1,2,3,4)"
   ]
  },
  {
   "cell_type": "code",
   "execution_count": null,
   "metadata": {},
   "outputs": [],
   "source": [
    "c.reshape(-1)"
   ]
  },
  {
   "cell_type": "code",
   "execution_count": null,
   "metadata": {},
   "outputs": [],
   "source": [
    "a = np.array([5*[i] for i in range(8)])"
   ]
  },
  {
   "cell_type": "code",
   "execution_count": null,
   "metadata": {},
   "outputs": [],
   "source": [
    "a = np.arange(30).reshape(3,10)"
   ]
  },
  {
   "cell_type": "code",
   "execution_count": null,
   "metadata": {},
   "outputs": [],
   "source": [
    "a"
   ]
  },
  {
   "cell_type": "code",
   "execution_count": null,
   "metadata": {},
   "outputs": [],
   "source": [
    "2*np.arange(3)[:,None] + np.arange(3)"
   ]
  },
  {
   "cell_type": "code",
   "execution_count": null,
   "metadata": {},
   "outputs": [],
   "source": [
    "%load_ext Cython"
   ]
  },
  {
   "cell_type": "code",
   "execution_count": null,
   "metadata": {},
   "outputs": [],
   "source": [
    "%%cython\n",
    "\n",
    "cdef int a = 0\n",
    "for i in range(10):\n",
    "    a += i\n",
    "print(a)"
   ]
  },
  {
   "cell_type": "code",
   "execution_count": null,
   "metadata": {},
   "outputs": [],
   "source": []
  }
 ],
 "metadata": {
  "kernelspec": {
   "display_name": "Python (pytorch)",
   "language": "python",
   "name": "pytorch"
  },
  "language_info": {
   "codemirror_mode": {
    "name": "ipython",
    "version": 3
   },
   "file_extension": ".py",
   "mimetype": "text/x-python",
   "name": "python",
   "nbconvert_exporter": "python",
   "pygments_lexer": "ipython3",
   "version": "3.6.5"
  }
 },
 "nbformat": 4,
 "nbformat_minor": 2
}
