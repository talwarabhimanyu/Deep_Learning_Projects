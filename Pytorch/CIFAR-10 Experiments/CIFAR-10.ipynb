{
 "cells": [
  {
   "cell_type": "code",
   "execution_count": 1,
   "metadata": {},
   "outputs": [],
   "source": [
    "import numpy as np\n",
    "from math import floor\n",
    "import tau.data_utils as du\n",
    "import tau.train_utils as tu\n",
    "import torch\n",
    "import torch.nn as nn\n",
    "import torch.optim as optim\n",
    "from torchvision import transforms, models\n",
    "from torch.utils.data import DataLoader, Dataset\n",
    "from torch.autograd import Variable\n",
    "from PIL import Image\n",
    "import matplotlib.pyplot as plt\n",
    "import csv\n",
    "import os\n",
    "import shutil\n",
    "import re\n",
    "from tqdm import tqdm_notebook as tqdm\n",
    "import gc\n",
    "\n",
    "%load_ext autoreload\n",
    "%autoreload 2\n",
    "\n",
    "device = torch.device(\"cuda:0\" if torch.cuda.is_available() else \"cpu\")"
   ]
  },
  {
   "cell_type": "code",
   "execution_count": 2,
   "metadata": {},
   "outputs": [],
   "source": [
    "# Config\n",
    "data_dir = 'data/cifar_data/'\n",
    "train_dir = 'data/train/'\n",
    "valid_dir = 'data/valid/'\n",
    "test_dir = 'data/test/'\n",
    "has_header = True\n",
    "data_file = 'trainLabels.csv'\n",
    "train_file = 'train_labels.csv'\n",
    "valid_file = 'valid_labels.csv'"
   ]
  },
  {
   "cell_type": "code",
   "execution_count": 3,
   "metadata": {},
   "outputs": [],
   "source": [
    "# Mean/std stats from Jeremy Howard's CIFAR-10 notebook.\n",
    "classes = ('airplane', 'automobile', 'bird', 'cat', 'deer', 'dog', 'frog', 'horse', 'ship', 'truck')\n",
    "num_classes = len(classes)\n",
    "stats = {'mean' : np.array([ 0.4914 ,  0.48216,  0.44653]), 'std' : np.array([ 0.24703,  0.24349,  0.26159])}\n",
    "data_path = {'train' : train_dir,\n",
    "            'val' : valid_dir,\n",
    "            'test' : test_dir}\n",
    "csvfile = {'train' : train_file,\n",
    "          'val' : valid_file,\n",
    "          'test' : None}\n",
    "shuffle = {'train' :  True,\n",
    "          'val' : False,\n",
    "          'test' : False}\n",
    "max_read = {'train' : 1286,\n",
    "           'val' : 64,\n",
    "           'test' : 0}\n",
    "img_size = 32\n",
    "batch_size = 32\n",
    "num_workers = 0"
   ]
  },
  {
   "cell_type": "code",
   "execution_count": 4,
   "metadata": {},
   "outputs": [
    {
     "name": "stdout",
     "output_type": "stream",
     "text": [
      "Read 1286 train images.\n",
      "Read 64 val images.\n",
      "Read 0 test images.\n"
     ]
    }
   ],
   "source": [
    "# Read data\n",
    "data_transforms = {'train' : transforms.Compose([\n",
    "                        transforms.RandomResizedCrop(img_size, scale=(0.8, 1.0)),\n",
    "                        transforms.RandomHorizontalFlip(),\n",
    "                        transforms.ToTensor(),\n",
    "                        transforms.Normalize(stats['mean'], stats['std'])]),\n",
    "                  'val' : transforms.Compose([transforms.ToTensor(),\n",
    "                                               transforms.Normalize(stats['mean'], stats['std'])]),\n",
    "                  'test' : transforms.Compose([transforms.ToTensor(),\n",
    "                                              transforms.Normalize(stats['mean'], stats['std'])])}\n",
    "image_datasets = {x : du.SingleLabelImages(x, data_path[x], csvfile[x], classes, '.png', \n",
    "                                    data_transforms[x], max_read[x]) for x in ['train', 'val', 'test']}\n",
    "image_loaders = {x : DataLoader(image_datasets[x], shuffle=shuffle[x], batch_size=batch_size, \n",
    "                                num_workers=num_workers) for x in ['train', 'val', 'test']}"
   ]
  },
  {
   "cell_type": "code",
   "execution_count": 5,
   "metadata": {},
   "outputs": [],
   "source": [
    "sample = image_datasets['train'].__getitem__(50)"
   ]
  },
  {
   "cell_type": "code",
   "execution_count": 6,
   "metadata": {},
   "outputs": [
    {
     "data": {
      "image/png": "[encoded data removed]",
      "text/plain": [
       "<Figure size 180x120 with 1 Axes>"
      ]
     },
     "metadata": {},
     "output_type": "display_data"
    },
    {
     "name": "stdout",
     "output_type": "stream",
     "text": [
      "Label: horse\n"
     ]
    }
   ],
   "source": [
    "# Returns an image in numpy array form with shape (H, W, C)\n",
    "def DenormalizeImage(img_tensor, mean, std):\n",
    "    return np.clip(img_tensor.numpy().transpose((1,2,0))*std + mean, 0.0, 1.0)\n",
    "plt.rcParams['figure.dpi'] = 30\n",
    "_ = plt.imshow(DenormalizeImage(sample['image'], stats['mean'], stats['std']))\n",
    "plt.show()\n",
    "print('Label: {}'.format(classes[sample['label']]))"
   ]
  },
  {
   "cell_type": "code",
   "execution_count": 11,
   "metadata": {},
   "outputs": [],
   "source": [
    "model = tu.NeuralNet(device, 'resnet18', 'cross_entropy', 10, image_loaders, pre_trained=True)\n",
    "#model.printModules(False)\n",
    "#model.freezeParams(freeze_modules=['layer3.conv1'])\n",
    "#lr_finder = model.exploreLR(min_lr=1e-5, max_lr=10.0)\n",
    "trainer = tu.Trainer(device, model, '')"
   ]
  },
  {
   "cell_type": "code",
   "execution_count": null,
   "metadata": {},
   "outputs": [
    {
     "data": {
      "application/vnd.jupyter.widget-view+json": {
       "model_id": "6d272b74121d4ac7bffa68bce3b44293",
       "version_major": 2,
       "version_minor": 0
      },
      "text/plain": [
       "HBox(children=(IntProgress(value=0, max=50), HTML(value='')))"
      ]
     },
     "metadata": {},
     "output_type": "display_data"
    }
   ],
   "source": [
    "trainer.train(image_loaders, num_iters=50, iter_type='batch')"
   ]
  },
  {
   "cell_type": "code",
   "execution_count": null,
   "metadata": {},
   "outputs": [],
   "source": [
    "model.stat_recorder.plotLoss()"
   ]
  },
  {
   "cell_type": "code",
   "execution_count": null,
   "metadata": {},
   "outputs": [],
   "source": [
    "lr_finder.plotLR()"
   ]
  },
  {
   "cell_type": "code",
   "execution_count": null,
   "metadata": {},
   "outputs": [],
   "source": [
    "lr_finder.zoomPlot(min_lr=1e-4, max_lr=1e-1)"
   ]
  },
  {
   "cell_type": "code",
   "execution_count": null,
   "metadata": {},
   "outputs": [],
   "source": [
    "a = [1,2,3]\n",
    "a[-1]"
   ]
  },
  {
   "cell_type": "code",
   "execution_count": null,
   "metadata": {},
   "outputs": [],
   "source": []
  }
 ],
 "metadata": {
  "kernelspec": {
   "display_name": "Python 3",
   "language": "python",
   "name": "python3"
  },
  "language_info": {
   "codemirror_mode": {
    "name": "ipython",
    "version": 3
   },
   "file_extension": ".py",
   "mimetype": "text/x-python",
   "name": "python",
   "nbconvert_exporter": "python",
   "pygments_lexer": "ipython3",
   "version": "3.6.5"
  }
 },
 "nbformat": 4,
 "nbformat_minor": 2
}
